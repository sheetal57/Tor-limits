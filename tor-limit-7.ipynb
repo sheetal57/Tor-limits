{
 "cells": [
  {
   "cell_type": "code",
   "execution_count": 1,
   "metadata": {
    "collapsed": true
   },
   "outputs": [],
   "source": [
    "import os\n",
    "import pycurl\n",
    "from io import BytesIO \n",
    "import certifi \n",
    "import difflib\n",
    "import sys, traceback\n",
    "import stem.process\n",
    "from stem.util import term"
   ]
  },
  {
   "cell_type": "code",
   "execution_count": 2,
   "metadata": {
    "collapsed": true
   },
   "outputs": [],
   "source": [
    "def query(url, istor, SOCKS_PORT = 7000):\n",
    "  \"\"\"\n",
    "  Uses pycurl to fetch a site\n",
    "  \"\"\"\n",
    "  output = BytesIO()\n",
    "\n",
    "  query = pycurl.Curl()\n",
    "  query.setopt(pycurl.CAINFO, certifi.where())\n",
    "  query.setopt(pycurl.FOLLOWLOCATION, 1)\n",
    "  \n",
    "  if istor:\n",
    "        #setup proxy\n",
    "        query.setopt(pycurl.PROXY, 'localhost')\n",
    "        query.setopt(pycurl.PROXYPORT, SOCKS_PORT)\n",
    "        query.setopt(pycurl.PROXYTYPE, pycurl.PROXYTYPE_SOCKS5_HOSTNAME)\n",
    "        \n",
    "  query.setopt(pycurl.URL, url)\n",
    "  query.setopt(pycurl.WRITEFUNCTION, output.write)\n",
    "  \n",
    "  try:\n",
    "    query.perform()\n",
    "    return output.getvalue()\n",
    "  except pycurl.error as exc:\n",
    "    return \"Unable to reach %s (%s)\" % (url, exc)\n"
   ]
  },
  {
   "cell_type": "code",
   "execution_count": 3,
   "metadata": {
    "collapsed": true
   },
   "outputs": [],
   "source": [
    "def print_bootstrap_lines(line):\n",
    "  if \"Bootstrapped \" in line:\n",
    "    print(line)"
   ]
  },
  {
   "cell_type": "code",
   "execution_count": 5,
   "metadata": {
    "collapsed": false
   },
   "outputs": [
    {
     "name": "stdout",
     "output_type": "stream",
     "text": [
      "\u001b[1mStarting Tor:\n",
      "\u001b[0m\n",
      "Jun 18 10:00:19.000 [notice] Bootstrapped 0%: Starting\n",
      "Jun 18 10:00:19.000 [notice] Bootstrapped 80%: Connecting to the Tor network\n",
      "Jun 18 10:00:21.000 [notice] Bootstrapped 85%: Finishing handshake with first hop\n",
      "Jun 18 10:00:21.000 [notice] Bootstrapped 90%: Establishing a Tor circuit\n",
      "Jun 18 10:00:22.000 [notice] Bootstrapped 100%: Done\n"
     ]
    }
   ],
   "source": [
    "#start the Tor process\n",
    "\n",
    "SOCKS_PORT = 7000\n",
    "print(term.format(\"Starting Tor:\\n\", term.Attr.BOLD))\n",
    "\n",
    "tor_process = stem.process.launch_tor_with_config(\n",
    "  config = {\n",
    "    'SocksPort': str(SOCKS_PORT),\n",
    "    'ExitNodes': '{se}',\n",
    "  },\n",
    "  init_msg_handler = print_bootstrap_lines,\n",
    ")\n"
   ]
  },
  {
   "cell_type": "code",
   "execution_count": 13,
   "metadata": {
    "collapsed": false
   },
   "outputs": [
    {
     "name": "stdout",
     "output_type": "stream",
     "text": [
      "http://www.google.com\n",
      "http://www.facebook.com\n",
      "http://www.youtube.com\n",
      "http://www.yahoo.com\n",
      "http://www.baidu.com\n",
      "http://www.wikipedia.org\n",
      "http://www.qq.com\n"
     ]
    },
    {
     "ename": "KeyboardInterrupt",
     "evalue": "",
     "output_type": "error",
     "traceback": [
      "\u001b[0;31m---------------------------------------------------------------------------\u001b[0m",
      "\u001b[0;31mKeyboardInterrupt\u001b[0m                         Traceback (most recent call last)",
      "\u001b[0;32m<ipython-input-13-5dc06b7c7278>\u001b[0m in \u001b[0;36m<module>\u001b[0;34m()\u001b[0m\n\u001b[1;32m     19\u001b[0m         \u001b[0mprint\u001b[0m\u001b[0;34m(\u001b[0m\u001b[0maurl\u001b[0m\u001b[0;34m)\u001b[0m\u001b[0;34m\u001b[0m\u001b[0m\n\u001b[1;32m     20\u001b[0m         \u001b[0mpage_tor\u001b[0m \u001b[0;34m=\u001b[0m \u001b[0mquery\u001b[0m\u001b[0;34m(\u001b[0m\u001b[0maurl\u001b[0m\u001b[0;34m,\u001b[0m \u001b[0;32mTrue\u001b[0m\u001b[0;34m)\u001b[0m\u001b[0;34m\u001b[0m\u001b[0m\n\u001b[0;32m---> 21\u001b[0;31m         \u001b[0mpage_regular\u001b[0m \u001b[0;34m=\u001b[0m \u001b[0mquery\u001b[0m\u001b[0;34m(\u001b[0m\u001b[0maurl\u001b[0m\u001b[0;34m,\u001b[0m \u001b[0;32mFalse\u001b[0m\u001b[0;34m)\u001b[0m\u001b[0;34m\u001b[0m\u001b[0m\n\u001b[0m\u001b[1;32m     22\u001b[0m \u001b[0;34m\u001b[0m\u001b[0m\n\u001b[1;32m     23\u001b[0m         \u001b[0;32mif\u001b[0m \u001b[0misinstance\u001b[0m\u001b[0;34m(\u001b[0m\u001b[0mpage_tor\u001b[0m\u001b[0;34m,\u001b[0m \u001b[0mbytes\u001b[0m\u001b[0;34m)\u001b[0m\u001b[0;34m:\u001b[0m\u001b[0;34m\u001b[0m\u001b[0m\n",
      "\u001b[0;32m<ipython-input-2-890a5a04a77b>\u001b[0m in \u001b[0;36mquery\u001b[0;34m(url, istor, SOCKS_PORT)\u001b[0m\n\u001b[1;32m     19\u001b[0m \u001b[0;34m\u001b[0m\u001b[0m\n\u001b[1;32m     20\u001b[0m   \u001b[0;32mtry\u001b[0m\u001b[0;34m:\u001b[0m\u001b[0;34m\u001b[0m\u001b[0m\n\u001b[0;32m---> 21\u001b[0;31m     \u001b[0mquery\u001b[0m\u001b[0;34m.\u001b[0m\u001b[0mperform\u001b[0m\u001b[0;34m(\u001b[0m\u001b[0;34m)\u001b[0m\u001b[0;34m\u001b[0m\u001b[0m\n\u001b[0m\u001b[1;32m     22\u001b[0m     \u001b[0;32mreturn\u001b[0m \u001b[0moutput\u001b[0m\u001b[0;34m.\u001b[0m\u001b[0mgetvalue\u001b[0m\u001b[0;34m(\u001b[0m\u001b[0;34m)\u001b[0m\u001b[0;34m\u001b[0m\u001b[0m\n\u001b[1;32m     23\u001b[0m   \u001b[0;32mexcept\u001b[0m \u001b[0mpycurl\u001b[0m\u001b[0;34m.\u001b[0m\u001b[0merror\u001b[0m \u001b[0;32mas\u001b[0m \u001b[0mexc\u001b[0m\u001b[0;34m:\u001b[0m\u001b[0;34m\u001b[0m\u001b[0m\n",
      "\u001b[0;31mKeyboardInterrupt\u001b[0m: "
     ]
    }
   ],
   "source": [
    "#visit urls\n",
    "\n",
    "allurls = open('alexa100.csv','r')\n",
    "try:\n",
    "    #need to find a way to get the exit ip\n",
    "    savefile = 'files/'\n",
    "    if not os.path.exists(savefile):\n",
    "        os.makedirs(savefile)\n",
    "        \n",
    "    \n",
    "    i = 0\n",
    "    for aurl in allurls:\n",
    "        \n",
    "        if i>20:\n",
    "            break\n",
    "        i+=1\n",
    "        \n",
    "        aurl = aurl.replace('\\n','')\n",
    "        print(aurl)\n",
    "        page_tor = query(aurl, True)\n",
    "        page_regular = query(aurl, False)\n",
    "\n",
    "        if isinstance(page_tor, bytes):\n",
    "            page_tor = page_tor.decode('ISO-8859-1')\n",
    "        if isinstance(page_regular, bytes):\n",
    "            page_regular = page_regular.decode('ISO-8859-1')\n",
    "        \n",
    "        out = open(savefile + aurl.split('.')[1]+'_tor.html','w')\n",
    "        out.write(page_tor)\n",
    "        out.close()\n",
    "        \n",
    "        out = open(savefile + aurl.split('.')[1]+'.html','w')\n",
    "        out.write(page_regular)\n",
    "        out.close()\n",
    "        \n",
    "        diff = difflib.ndiff(page_tor.splitlines(1), page_regular.splitlines(1))\n",
    "        out = open(savefile + aurl.split('.')[1]+'_diff.html','w')\n",
    "        out.write(''.join(diff))\n",
    "        out.close()\n",
    "        \n",
    "        \n",
    "except Exception as e:\n",
    "    exc_type, exc_value, exc_traceback = sys.exc_info()\n",
    "    traceback.print_exc()\n",
    "    \n",
    "finally:\n",
    "    tor_process.kill()"
   ]
  },
  {
   "cell_type": "code",
   "execution_count": null,
   "metadata": {
    "collapsed": true
   },
   "outputs": [],
   "source": []
  }
 ],
 "metadata": {
  "kernelspec": {
   "display_name": "Python 3",
   "language": "python",
   "name": "python3"
  },
  "language_info": {
   "codemirror_mode": {
    "name": "ipython",
    "version": 3
   },
   "file_extension": ".py",
   "mimetype": "text/x-python",
   "name": "python",
   "nbconvert_exporter": "python",
   "pygments_lexer": "ipython3",
   "version": "3.3.5"
  }
 },
 "nbformat": 4,
 "nbformat_minor": 0
}
